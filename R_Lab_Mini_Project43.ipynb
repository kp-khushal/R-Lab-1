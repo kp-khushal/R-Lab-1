{
  "nbformat": 4,
  "nbformat_minor": 0,
  "metadata": {
    "colab": {
      "name": "R-Lab-Mini-Project43.ipynb",
      "provenance": [],
      "collapsed_sections": [],
      "include_colab_link": true
    },
    "kernelspec": {
      "name": "ir",
      "display_name": "R"
    },
    "language_info": {
      "name": "R"
    }
  },
  "cells": [
    {
      "cell_type": "markdown",
      "metadata": {
        "id": "view-in-github",
        "colab_type": "text"
      },
      "source": [
        "<a href=\"https://colab.research.google.com/github/kp-khushal/R-Lab-1/blob/main/R_Lab_Mini_Project43.ipynb\" target=\"_parent\"><img src=\"https://colab.research.google.com/assets/colab-badge.svg\" alt=\"Open In Colab\"/></a>"
      ]
    },
    {
      "cell_type": "code",
      "metadata": {
        "colab": {
          "base_uri": "https://localhost:8080/",
          "height": 1000
        },
        "id": "aqbXHIBmSNGY",
        "outputId": "2b66885e-8907-45b4-a701-ce65277fef64"
      },
      "source": [
        "id <- \"1I74VG8G4sRD4CP4CDmGTf2Fc1Y7DeqAa\" # google file ID\n",
        "data <- read.csv(sprintf(\"https://docs.google.com/uc?id=%s&export=download\", id), na.strings=c(\"\",\"NA\"))\n",
        "data"
      ],
      "execution_count": 1,
      "outputs": [
        {
          "output_type": "display_data",
          "data": {
            "text/plain": [
              "     Region                            Country                         \n",
              "1    Middle East and North Africa      Libya                           \n",
              "2    North America                     Canada                          \n",
              "3    Middle East and North Africa      Libya                           \n",
              "4    Asia                              Japan                           \n",
              "5    Sub-Saharan Africa                Chad                            \n",
              "6    Europe                            Armenia                         \n",
              "7    Sub-Saharan Africa                Eritrea                         \n",
              "8    Europe                            Montenegro                      \n",
              "9    Central America and the Caribbean Jamaica                         \n",
              "10   Australia and Oceania             Fiji                            \n",
              "11   Sub-Saharan Africa                Togo                            \n",
              "12   Europe                            Montenegro                      \n",
              "13   Europe                            Greece                          \n",
              "14   Sub-Saharan Africa                Sudan                           \n",
              "15   Asia                              Maldives                        \n",
              "16   Europe                            Montenegro                      \n",
              "17   Europe                            Estonia                         \n",
              "18   North America                     Greenland                       \n",
              "19   Sub-Saharan Africa                Cape Verde                      \n",
              "20   Sub-Saharan Africa                Senegal                         \n",
              "21   Australia and Oceania             Federated States of Micronesia  \n",
              "22   Europe                            Bulgaria                        \n",
              "23   Middle East and North Africa      Algeria                         \n",
              "24   Asia                              Mongolia                        \n",
              "25   Central America and the Caribbean Grenada                         \n",
              "26   Central America and the Caribbean Grenada                         \n",
              "27   Sub-Saharan Africa                Senegal                         \n",
              "28   North America                     Greenland                       \n",
              "29   Sub-Saharan Africa                Chad                            \n",
              "30   Sub-Saharan Africa                Mauritius                       \n",
              "⋮    ⋮                                 ⋮                               \n",
              "971  Central America and the Caribbean Saint Kitts and Nevis           \n",
              "972  Sub-Saharan Africa                Sudan                           \n",
              "973  Central America and the Caribbean Guatemala                       \n",
              "974  Asia                              Brunei                          \n",
              "975  Middle East and North Africa      Jordan                          \n",
              "976  Central America and the Caribbean Panama                          \n",
              "977  Sub-Saharan Africa                Central African Republic        \n",
              "978  Middle East and North Africa      Bahrain                         \n",
              "979  Sub-Saharan Africa                Burundi                         \n",
              "980  Europe                            Austria                         \n",
              "981  Australia and Oceania             Fiji                            \n",
              "982  Australia and Oceania             Fiji                            \n",
              "983  Europe                            Switzerland                     \n",
              "984  Middle East and North Africa      Yemen                           \n",
              "985  Sub-Saharan Africa                Comoros                         \n",
              "986  Sub-Saharan Africa                Democratic Republic of the Congo\n",
              "987  Asia                              Mongolia                        \n",
              "988  Australia and Oceania             Palau                           \n",
              "989  Europe                            Monaco                          \n",
              "990  Australia and Oceania             Fiji                            \n",
              "991  Sub-Saharan Africa                Mali                            \n",
              "992  Sub-Saharan Africa                Liberia                         \n",
              "993  Europe                            Switzerland                     \n",
              "994  Australia and Oceania             Samoa                           \n",
              "995  Asia                              Nepal                           \n",
              "996  Middle East and North Africa      Azerbaijan                      \n",
              "997  Europe                            Georgia                         \n",
              "998  Middle East and North Africa      United Arab Emirates            \n",
              "999  Europe                            Finland                         \n",
              "1000 Europe                            Portugal                        \n",
              "     Item.Type       Sales.Channel Order.Priority Order.Date Order.ID \n",
              "1    Cosmetics       Offline       M              10/18/2014 686800706\n",
              "2    Vegetables      Online        M              11/7/2011  185941302\n",
              "3    Baby Food       Offline       C              10/31/2016 246222341\n",
              "4    Cereal          Offline       C              4/10/2010  161442649\n",
              "5    Fruits          Offline       H              8/16/2011  645713555\n",
              "6    Cereal          Online        H              11/24/2014 683458888\n",
              "7    Cereal          Online        H              3/4/2015   679414975\n",
              "8    Clothes         Offline       M              5/17/2012  208630645\n",
              "9    Vegetables      Online        H              1/29/2015  266467225\n",
              "10   Vegetables      Offline       H              12/24/2013 118598544\n",
              "11   Clothes         Online        M              12/29/2015 451010930\n",
              "12   Snacks          Offline       M              2/27/2010  220003211\n",
              "13   Household       Online        C              11/17/2016 702186715\n",
              "14   Cosmetics       Online        C              12/20/2015 544485270\n",
              "15   Fruits          Offline       L              1/8/2011   714135205\n",
              "16   Clothes         Offline       H              6/28/2010  448685348\n",
              "17   Office Supplies Online        H              4/25/2016  405997025\n",
              "18   Beverages       Online        M              7/27/2012  414244067\n",
              "19   Clothes         Online        C              9/8/2014   821912801\n",
              "20   Household       Offline       L              8/27/2012  247802054\n",
              "21   Snacks          Online        C              9/3/2012   531023156\n",
              "22   Clothes         Online        L              8/27/2010  880999934\n",
              "23   Personal Care   Online        H              2/20/2011  127468717\n",
              "24   Clothes         Online        L              12/12/2015 770478332\n",
              "25   Cereal          Online        H              10/28/2012 430390107\n",
              "26   Beverages       Online        M              1/30/2017  397877871\n",
              "27   Beverages       Offline       M              10/22/2014 683927953\n",
              "28   Fruits          Offline       M              1/31/2012  469839179\n",
              "29   Meat            Offline       H              1/20/2016  357222878\n",
              "30   Personal Care   Online        C              1/1/2016   118002879\n",
              "⋮    ⋮               ⋮             ⋮              ⋮          ⋮        \n",
              "971  Cereal          Offline       H              2/21/2016  708063542\n",
              "972  Vegetables      Offline       H              12/4/2016  817192542\n",
              "973  Meat            Offline       H              1/16/2012  936387765\n",
              "974  Clothes         Offline       H              8/6/2011   612573039\n",
              "975  Clothes         Online        M              8/12/2011  812984693\n",
              "976  Meat            Offline       C              12/18/2012 775171554\n",
              "977  Household       Online        H              1/10/2010  256994950\n",
              "978  Beverages       Offline       M              2/28/2017  886628711\n",
              "979  Beverages       Online        C              12/8/2011  312559163\n",
              "980  Cereal          Online        L              8/18/2014  753585135\n",
              "981  Beverages       Offline       H              4/19/2016  448817956\n",
              "982  Clothes         Offline       M              11/6/2012  407681453\n",
              "983  Snacks          Online        H              5/27/2016  359911954\n",
              "984  Office Supplies Offline       M              8/18/2013  105558288\n",
              "985  Personal Care   Offline       H              12/31/2014 864981782\n",
              "986  Office Supplies Online        C              2/4/2013   328856265\n",
              "987  Clothes         Offline       H              9/23/2016  308168065\n",
              "988  Household       Offline       L              11/1/2016  884216010\n",
              "989  Snacks          Offline       M              12/27/2012 858611428\n",
              "990  Cereal          Online        L              3/10/2017  903278148\n",
              "991  Beverages       Online        L              3/17/2012  410452497\n",
              "992  Cereal          Offline       H              12/17/2015 642683303\n",
              "993  Beverages       Offline       L              2/18/2017  682831895\n",
              "994  Baby Food       Online        L              11/5/2016  584072101\n",
              "995  Meat            Offline       C              4/9/2017   919890248\n",
              "996  Snacks          Offline       C              4/18/2010  534085166\n",
              "997  Baby Food       Offline       H              8/1/2011   590768182\n",
              "998  Vegetables      Online        C              5/12/2011  524363124\n",
              "999  Household       Offline       L              1/25/2016  289606320\n",
              "1000 Cereal          Offline       C              4/10/2014  811546599\n",
              "     Ship.Date  Units.Sold Unit.Price Unit.Cost Total.Revenue Total.Cost\n",
              "1    10/31/2014 8446       437.20     263.33    3692591.20    2224085.18\n",
              "2    12/8/2011  3018       154.06      90.93     464953.08     274426.74\n",
              "3    12/9/2016  1517       255.28     159.42     387259.76     241840.14\n",
              "4    5/12/2010  3322       205.70     117.11     683335.40     389039.42\n",
              "5    8/31/2011  9845         9.33       6.92      91853.85      68127.40\n",
              "6    12/28/2014 9528       205.70     117.11    1959909.60    1115824.08\n",
              "7    4/17/2015  2844       205.70     117.11     585010.80     333060.84\n",
              "8    6/28/2012  7299       109.28      35.84     797634.72     261596.16\n",
              "9    3/7/2015   2428       154.06      90.93     374057.68     220778.04\n",
              "10   1/19/2014  4800       154.06      90.93     739488.00     436464.00\n",
              "11   1/19/2016  3012       109.28      35.84     329151.36     107950.08\n",
              "12   3/18/2010  2694       152.58      97.44     411050.52     262503.36\n",
              "13   12/22/2016 1508       668.27     502.54    1007751.16     757830.32\n",
              "14   1/5/2016   4146       437.20     263.33    1812631.20    1091766.18\n",
              "15   2/6/2011   7332         9.33       6.92      68407.56      50737.44\n",
              "16   7/22/2010  4820       109.28      35.84     526729.60     172748.80\n",
              "17   5/12/2016  2397       651.21     524.96    1560950.37    1258329.12\n",
              "18   8/7/2012   2880        47.45      31.79     136656.00      91555.20\n",
              "19   10/3/2014  1117       109.28      35.84     122065.76      40033.28\n",
              "20   9/8/2012   8989       668.27     502.54    6007079.03    4517332.06\n",
              "21   10/15/2012  407       152.58      97.44      62100.06      39658.08\n",
              "22   9/16/2010  6313       109.28      35.84     689884.64     226257.92\n",
              "23   3/9/2011   9681        81.73      56.67     791228.13     548622.27\n",
              "24   1/24/2016   515       109.28      35.84      56279.20      18457.60\n",
              "25   11/13/2012  852       205.70     117.11     175256.40      99777.72\n",
              "26   3/20/2017  9759        47.45      31.79     463064.55     310238.61\n",
              "27   11/4/2014  8334        47.45      31.79     395448.30     264937.86\n",
              "28   2/22/2012  4709         9.33       6.92      43934.97      32586.28\n",
              "29   3/9/2016   9043       421.89     364.69    3815151.27    3297891.67\n",
              "30   1/7/2016   8529        81.73      56.67     697075.17     483338.43\n",
              "⋮    ⋮          ⋮          ⋮          ⋮         ⋮             ⋮         \n",
              "971  3/19/2016   592       205.70     117.11     121774.40      69329.12\n",
              "972  12/22/2016 4288       154.06      90.93     660609.28     389907.84\n",
              "973  2/29/2012  6803       421.89     364.69    2870117.67    2480986.07\n",
              "974  8/9/2011   2830       109.28      35.84     309262.40     101427.20\n",
              "975  8/22/2011  9092       109.28      35.84     993573.76     325857.28\n",
              "976  1/5/2013   9344       421.89     364.69    3942140.16    3407663.36\n",
              "977  2/19/2010  9372       668.27     502.54    6263026.44    4709804.88\n",
              "978  3/31/2017  1993        47.45      31.79      94567.85      63357.47\n",
              "979  12/16/2011 2057        47.45      31.79      97604.65      65392.03\n",
              "980  9/13/2014  1443       205.70     117.11     296825.10     168989.73\n",
              "981  4/22/2016  4062        47.45      31.79     192741.90     129130.98\n",
              "982  12/24/2012  856       109.28      35.84      93543.68      30679.04\n",
              "983  6/23/2016  4800       152.58      97.44     732384.00     467712.00\n",
              "984  8/19/2013  5898       651.21     524.96    3840836.58    3096214.08\n",
              "985  2/11/2015  6186        81.73      56.67     505581.78     350560.62\n",
              "986  2/12/2013  4732       651.21     524.96    3081525.72    2484110.72\n",
              "987  10/18/2016 2633       109.28      35.84     287734.24      94366.72\n",
              "988  11/2/2016  8021       668.27     502.54    5360193.67    4030873.34\n",
              "989  1/9/2013   1057       152.58      97.44     161277.06     102994.08\n",
              "990  4/3/2017   8932       205.70     117.11    1837312.40    1046026.52\n",
              "991  3/26/2012   870        47.45      31.79      41281.50      27657.30\n",
              "992  1/20/2016  3126       205.70     117.11     643018.20     366085.86\n",
              "993  3/16/2017  3987        47.45      31.79     189183.15     126746.73\n",
              "994  11/5/2016  8769       255.28     159.42    2238550.32    1397953.98\n",
              "995  5/18/2017  4821       421.89     364.69    2033931.69    1758170.49\n",
              "996  4/25/2010  6524       152.58      97.44     995431.92     635698.56\n",
              "997  9/7/2011    288       255.28     159.42      73520.64      45912.96\n",
              "998  6/28/2011  9556       154.06      90.93    1472197.36     868927.08\n",
              "999  2/14/2016  9801       668.27     502.54    6549714.27    4925394.54\n",
              "1000 5/8/2014   3528       205.70     117.11     725709.60     413164.08\n",
              "     Total.Profit\n",
              "1    1468506.02  \n",
              "2     190526.34  \n",
              "3     145419.62  \n",
              "4     294295.98  \n",
              "5      23726.45  \n",
              "6     844085.52  \n",
              "7     251949.96  \n",
              "8     536038.56  \n",
              "9     153279.64  \n",
              "10    303024.00  \n",
              "11    221201.28  \n",
              "12    148547.16  \n",
              "13    249920.84  \n",
              "14    720865.02  \n",
              "15     17670.12  \n",
              "16    353980.80  \n",
              "17    302621.25  \n",
              "18     45100.80  \n",
              "19     82032.48  \n",
              "20   1489746.97  \n",
              "21     22441.98  \n",
              "22    463626.72  \n",
              "23    242605.86  \n",
              "24     37821.60  \n",
              "25     75478.68  \n",
              "26    152825.94  \n",
              "27    130510.44  \n",
              "28     11348.69  \n",
              "29    517259.60  \n",
              "30    213736.74  \n",
              "⋮    ⋮           \n",
              "971    52445.28  \n",
              "972   270701.44  \n",
              "973   389131.60  \n",
              "974   207835.20  \n",
              "975   667716.48  \n",
              "976   534476.80  \n",
              "977  1553221.56  \n",
              "978    31210.38  \n",
              "979    32212.62  \n",
              "980   127835.37  \n",
              "981    63610.92  \n",
              "982    62864.64  \n",
              "983   264672.00  \n",
              "984   744622.50  \n",
              "985   155021.16  \n",
              "986   597415.00  \n",
              "987   193367.52  \n",
              "988  1329320.33  \n",
              "989    58282.98  \n",
              "990   791285.88  \n",
              "991    13624.20  \n",
              "992   276932.34  \n",
              "993    62436.42  \n",
              "994   840596.34  \n",
              "995   275761.20  \n",
              "996   359733.36  \n",
              "997    27607.68  \n",
              "998   603270.28  \n",
              "999  1624319.73  \n",
              "1000  312545.52  "
            ],
            "text/latex": "A data.frame: 1000 × 14\n\\begin{tabular}{llllllllllllll}\n Region & Country & Item.Type & Sales.Channel & Order.Priority & Order.Date & Order.ID & Ship.Date & Units.Sold & Unit.Price & Unit.Cost & Total.Revenue & Total.Cost & Total.Profit\\\\\n <chr> & <chr> & <chr> & <chr> & <chr> & <chr> & <int> & <chr> & <int> & <dbl> & <dbl> & <dbl> & <dbl> & <dbl>\\\\\n\\hline\n\t Middle East and North Africa      & Libya                          & Cosmetics       & Offline & M & 10/18/2014 & 686800706 & 10/31/2014 & 8446 & 437.20 & 263.33 & 3692591.20 & 2224085.18 & 1468506.02\\\\\n\t North America                     & Canada                         & Vegetables      & Online  & M & 11/7/2011  & 185941302 & 12/8/2011  & 3018 & 154.06 &  90.93 &  464953.08 &  274426.74 &  190526.34\\\\\n\t Middle East and North Africa      & Libya                          & Baby Food       & Offline & C & 10/31/2016 & 246222341 & 12/9/2016  & 1517 & 255.28 & 159.42 &  387259.76 &  241840.14 &  145419.62\\\\\n\t Asia                              & Japan                          & Cereal          & Offline & C & 4/10/2010  & 161442649 & 5/12/2010  & 3322 & 205.70 & 117.11 &  683335.40 &  389039.42 &  294295.98\\\\\n\t Sub-Saharan Africa                & Chad                           & Fruits          & Offline & H & 8/16/2011  & 645713555 & 8/31/2011  & 9845 &   9.33 &   6.92 &   91853.85 &   68127.40 &   23726.45\\\\\n\t Europe                            & Armenia                        & Cereal          & Online  & H & 11/24/2014 & 683458888 & 12/28/2014 & 9528 & 205.70 & 117.11 & 1959909.60 & 1115824.08 &  844085.52\\\\\n\t Sub-Saharan Africa                & Eritrea                        & Cereal          & Online  & H & 3/4/2015   & 679414975 & 4/17/2015  & 2844 & 205.70 & 117.11 &  585010.80 &  333060.84 &  251949.96\\\\\n\t Europe                            & Montenegro                     & Clothes         & Offline & M & 5/17/2012  & 208630645 & 6/28/2012  & 7299 & 109.28 &  35.84 &  797634.72 &  261596.16 &  536038.56\\\\\n\t Central America and the Caribbean & Jamaica                        & Vegetables      & Online  & H & 1/29/2015  & 266467225 & 3/7/2015   & 2428 & 154.06 &  90.93 &  374057.68 &  220778.04 &  153279.64\\\\\n\t Australia and Oceania             & Fiji                           & Vegetables      & Offline & H & 12/24/2013 & 118598544 & 1/19/2014  & 4800 & 154.06 &  90.93 &  739488.00 &  436464.00 &  303024.00\\\\\n\t Sub-Saharan Africa                & Togo                           & Clothes         & Online  & M & 12/29/2015 & 451010930 & 1/19/2016  & 3012 & 109.28 &  35.84 &  329151.36 &  107950.08 &  221201.28\\\\\n\t Europe                            & Montenegro                     & Snacks          & Offline & M & 2/27/2010  & 220003211 & 3/18/2010  & 2694 & 152.58 &  97.44 &  411050.52 &  262503.36 &  148547.16\\\\\n\t Europe                            & Greece                         & Household       & Online  & C & 11/17/2016 & 702186715 & 12/22/2016 & 1508 & 668.27 & 502.54 & 1007751.16 &  757830.32 &  249920.84\\\\\n\t Sub-Saharan Africa                & Sudan                          & Cosmetics       & Online  & C & 12/20/2015 & 544485270 & 1/5/2016   & 4146 & 437.20 & 263.33 & 1812631.20 & 1091766.18 &  720865.02\\\\\n\t Asia                              & Maldives                       & Fruits          & Offline & L & 1/8/2011   & 714135205 & 2/6/2011   & 7332 &   9.33 &   6.92 &   68407.56 &   50737.44 &   17670.12\\\\\n\t Europe                            & Montenegro                     & Clothes         & Offline & H & 6/28/2010  & 448685348 & 7/22/2010  & 4820 & 109.28 &  35.84 &  526729.60 &  172748.80 &  353980.80\\\\\n\t Europe                            & Estonia                        & Office Supplies & Online  & H & 4/25/2016  & 405997025 & 5/12/2016  & 2397 & 651.21 & 524.96 & 1560950.37 & 1258329.12 &  302621.25\\\\\n\t North America                     & Greenland                      & Beverages       & Online  & M & 7/27/2012  & 414244067 & 8/7/2012   & 2880 &  47.45 &  31.79 &  136656.00 &   91555.20 &   45100.80\\\\\n\t Sub-Saharan Africa                & Cape Verde                     & Clothes         & Online  & C & 9/8/2014   & 821912801 & 10/3/2014  & 1117 & 109.28 &  35.84 &  122065.76 &   40033.28 &   82032.48\\\\\n\t Sub-Saharan Africa                & Senegal                        & Household       & Offline & L & 8/27/2012  & 247802054 & 9/8/2012   & 8989 & 668.27 & 502.54 & 6007079.03 & 4517332.06 & 1489746.97\\\\\n\t Australia and Oceania             & Federated States of Micronesia & Snacks          & Online  & C & 9/3/2012   & 531023156 & 10/15/2012 &  407 & 152.58 &  97.44 &   62100.06 &   39658.08 &   22441.98\\\\\n\t Europe                            & Bulgaria                       & Clothes         & Online  & L & 8/27/2010  & 880999934 & 9/16/2010  & 6313 & 109.28 &  35.84 &  689884.64 &  226257.92 &  463626.72\\\\\n\t Middle East and North Africa      & Algeria                        & Personal Care   & Online  & H & 2/20/2011  & 127468717 & 3/9/2011   & 9681 &  81.73 &  56.67 &  791228.13 &  548622.27 &  242605.86\\\\\n\t Asia                              & Mongolia                       & Clothes         & Online  & L & 12/12/2015 & 770478332 & 1/24/2016  &  515 & 109.28 &  35.84 &   56279.20 &   18457.60 &   37821.60\\\\\n\t Central America and the Caribbean & Grenada                        & Cereal          & Online  & H & 10/28/2012 & 430390107 & 11/13/2012 &  852 & 205.70 & 117.11 &  175256.40 &   99777.72 &   75478.68\\\\\n\t Central America and the Caribbean & Grenada                        & Beverages       & Online  & M & 1/30/2017  & 397877871 & 3/20/2017  & 9759 &  47.45 &  31.79 &  463064.55 &  310238.61 &  152825.94\\\\\n\t Sub-Saharan Africa                & Senegal                        & Beverages       & Offline & M & 10/22/2014 & 683927953 & 11/4/2014  & 8334 &  47.45 &  31.79 &  395448.30 &  264937.86 &  130510.44\\\\\n\t North America                     & Greenland                      & Fruits          & Offline & M & 1/31/2012  & 469839179 & 2/22/2012  & 4709 &   9.33 &   6.92 &   43934.97 &   32586.28 &   11348.69\\\\\n\t Sub-Saharan Africa                & Chad                           & Meat            & Offline & H & 1/20/2016  & 357222878 & 3/9/2016   & 9043 & 421.89 & 364.69 & 3815151.27 & 3297891.67 &  517259.60\\\\\n\t Sub-Saharan Africa                & Mauritius                      & Personal Care   & Online  & C & 1/1/2016   & 118002879 & 1/7/2016   & 8529 &  81.73 &  56.67 &  697075.17 &  483338.43 &  213736.74\\\\\n\t ⋮ & ⋮ & ⋮ & ⋮ & ⋮ & ⋮ & ⋮ & ⋮ & ⋮ & ⋮ & ⋮ & ⋮ & ⋮ & ⋮\\\\\n\t Central America and the Caribbean & Saint Kitts and Nevis            & Cereal          & Offline & H & 2/21/2016  & 708063542 & 3/19/2016  &  592 & 205.70 & 117.11 &  121774.40 &   69329.12 &   52445.28\\\\\n\t Sub-Saharan Africa                & Sudan                            & Vegetables      & Offline & H & 12/4/2016  & 817192542 & 12/22/2016 & 4288 & 154.06 &  90.93 &  660609.28 &  389907.84 &  270701.44\\\\\n\t Central America and the Caribbean & Guatemala                        & Meat            & Offline & H & 1/16/2012  & 936387765 & 2/29/2012  & 6803 & 421.89 & 364.69 & 2870117.67 & 2480986.07 &  389131.60\\\\\n\t Asia                              & Brunei                           & Clothes         & Offline & H & 8/6/2011   & 612573039 & 8/9/2011   & 2830 & 109.28 &  35.84 &  309262.40 &  101427.20 &  207835.20\\\\\n\t Middle East and North Africa      & Jordan                           & Clothes         & Online  & M & 8/12/2011  & 812984693 & 8/22/2011  & 9092 & 109.28 &  35.84 &  993573.76 &  325857.28 &  667716.48\\\\\n\t Central America and the Caribbean & Panama                           & Meat            & Offline & C & 12/18/2012 & 775171554 & 1/5/2013   & 9344 & 421.89 & 364.69 & 3942140.16 & 3407663.36 &  534476.80\\\\\n\t Sub-Saharan Africa                & Central African Republic         & Household       & Online  & H & 1/10/2010  & 256994950 & 2/19/2010  & 9372 & 668.27 & 502.54 & 6263026.44 & 4709804.88 & 1553221.56\\\\\n\t Middle East and North Africa      & Bahrain                          & Beverages       & Offline & M & 2/28/2017  & 886628711 & 3/31/2017  & 1993 &  47.45 &  31.79 &   94567.85 &   63357.47 &   31210.38\\\\\n\t Sub-Saharan Africa                & Burundi                          & Beverages       & Online  & C & 12/8/2011  & 312559163 & 12/16/2011 & 2057 &  47.45 &  31.79 &   97604.65 &   65392.03 &   32212.62\\\\\n\t Europe                            & Austria                          & Cereal          & Online  & L & 8/18/2014  & 753585135 & 9/13/2014  & 1443 & 205.70 & 117.11 &  296825.10 &  168989.73 &  127835.37\\\\\n\t Australia and Oceania             & Fiji                             & Beverages       & Offline & H & 4/19/2016  & 448817956 & 4/22/2016  & 4062 &  47.45 &  31.79 &  192741.90 &  129130.98 &   63610.92\\\\\n\t Australia and Oceania             & Fiji                             & Clothes         & Offline & M & 11/6/2012  & 407681453 & 12/24/2012 &  856 & 109.28 &  35.84 &   93543.68 &   30679.04 &   62864.64\\\\\n\t Europe                            & Switzerland                      & Snacks          & Online  & H & 5/27/2016  & 359911954 & 6/23/2016  & 4800 & 152.58 &  97.44 &  732384.00 &  467712.00 &  264672.00\\\\\n\t Middle East and North Africa      & Yemen                            & Office Supplies & Offline & M & 8/18/2013  & 105558288 & 8/19/2013  & 5898 & 651.21 & 524.96 & 3840836.58 & 3096214.08 &  744622.50\\\\\n\t Sub-Saharan Africa                & Comoros                          & Personal Care   & Offline & H & 12/31/2014 & 864981782 & 2/11/2015  & 6186 &  81.73 &  56.67 &  505581.78 &  350560.62 &  155021.16\\\\\n\t Sub-Saharan Africa                & Democratic Republic of the Congo & Office Supplies & Online  & C & 2/4/2013   & 328856265 & 2/12/2013  & 4732 & 651.21 & 524.96 & 3081525.72 & 2484110.72 &  597415.00\\\\\n\t Asia                              & Mongolia                         & Clothes         & Offline & H & 9/23/2016  & 308168065 & 10/18/2016 & 2633 & 109.28 &  35.84 &  287734.24 &   94366.72 &  193367.52\\\\\n\t Australia and Oceania             & Palau                            & Household       & Offline & L & 11/1/2016  & 884216010 & 11/2/2016  & 8021 & 668.27 & 502.54 & 5360193.67 & 4030873.34 & 1329320.33\\\\\n\t Europe                            & Monaco                           & Snacks          & Offline & M & 12/27/2012 & 858611428 & 1/9/2013   & 1057 & 152.58 &  97.44 &  161277.06 &  102994.08 &   58282.98\\\\\n\t Australia and Oceania             & Fiji                             & Cereal          & Online  & L & 3/10/2017  & 903278148 & 4/3/2017   & 8932 & 205.70 & 117.11 & 1837312.40 & 1046026.52 &  791285.88\\\\\n\t Sub-Saharan Africa                & Mali                             & Beverages       & Online  & L & 3/17/2012  & 410452497 & 3/26/2012  &  870 &  47.45 &  31.79 &   41281.50 &   27657.30 &   13624.20\\\\\n\t Sub-Saharan Africa                & Liberia                          & Cereal          & Offline & H & 12/17/2015 & 642683303 & 1/20/2016  & 3126 & 205.70 & 117.11 &  643018.20 &  366085.86 &  276932.34\\\\\n\t Europe                            & Switzerland                      & Beverages       & Offline & L & 2/18/2017  & 682831895 & 3/16/2017  & 3987 &  47.45 &  31.79 &  189183.15 &  126746.73 &   62436.42\\\\\n\t Australia and Oceania             & Samoa                            & Baby Food       & Online  & L & 11/5/2016  & 584072101 & 11/5/2016  & 8769 & 255.28 & 159.42 & 2238550.32 & 1397953.98 &  840596.34\\\\\n\t Asia                              & Nepal                            & Meat            & Offline & C & 4/9/2017   & 919890248 & 5/18/2017  & 4821 & 421.89 & 364.69 & 2033931.69 & 1758170.49 &  275761.20\\\\\n\t Middle East and North Africa      & Azerbaijan                       & Snacks          & Offline & C & 4/18/2010  & 534085166 & 4/25/2010  & 6524 & 152.58 &  97.44 &  995431.92 &  635698.56 &  359733.36\\\\\n\t Europe                            & Georgia                          & Baby Food       & Offline & H & 8/1/2011   & 590768182 & 9/7/2011   &  288 & 255.28 & 159.42 &   73520.64 &   45912.96 &   27607.68\\\\\n\t Middle East and North Africa      & United Arab Emirates             & Vegetables      & Online  & C & 5/12/2011  & 524363124 & 6/28/2011  & 9556 & 154.06 &  90.93 & 1472197.36 &  868927.08 &  603270.28\\\\\n\t Europe                            & Finland                          & Household       & Offline & L & 1/25/2016  & 289606320 & 2/14/2016  & 9801 & 668.27 & 502.54 & 6549714.27 & 4925394.54 & 1624319.73\\\\\n\t Europe                            & Portugal                         & Cereal          & Offline & C & 4/10/2014  & 811546599 & 5/8/2014   & 3528 & 205.70 & 117.11 &  725709.60 &  413164.08 &  312545.52\\\\\n\\end{tabular}\n",
            "text/markdown": "\nA data.frame: 1000 × 14\n\n| Region &lt;chr&gt; | Country &lt;chr&gt; | Item.Type &lt;chr&gt; | Sales.Channel &lt;chr&gt; | Order.Priority &lt;chr&gt; | Order.Date &lt;chr&gt; | Order.ID &lt;int&gt; | Ship.Date &lt;chr&gt; | Units.Sold &lt;int&gt; | Unit.Price &lt;dbl&gt; | Unit.Cost &lt;dbl&gt; | Total.Revenue &lt;dbl&gt; | Total.Cost &lt;dbl&gt; | Total.Profit &lt;dbl&gt; |\n|---|---|---|---|---|---|---|---|---|---|---|---|---|---|\n| Middle East and North Africa      | Libya                          | Cosmetics       | Offline | M | 10/18/2014 | 686800706 | 10/31/2014 | 8446 | 437.20 | 263.33 | 3692591.20 | 2224085.18 | 1468506.02 |\n| North America                     | Canada                         | Vegetables      | Online  | M | 11/7/2011  | 185941302 | 12/8/2011  | 3018 | 154.06 |  90.93 |  464953.08 |  274426.74 |  190526.34 |\n| Middle East and North Africa      | Libya                          | Baby Food       | Offline | C | 10/31/2016 | 246222341 | 12/9/2016  | 1517 | 255.28 | 159.42 |  387259.76 |  241840.14 |  145419.62 |\n| Asia                              | Japan                          | Cereal          | Offline | C | 4/10/2010  | 161442649 | 5/12/2010  | 3322 | 205.70 | 117.11 |  683335.40 |  389039.42 |  294295.98 |\n| Sub-Saharan Africa                | Chad                           | Fruits          | Offline | H | 8/16/2011  | 645713555 | 8/31/2011  | 9845 |   9.33 |   6.92 |   91853.85 |   68127.40 |   23726.45 |\n| Europe                            | Armenia                        | Cereal          | Online  | H | 11/24/2014 | 683458888 | 12/28/2014 | 9528 | 205.70 | 117.11 | 1959909.60 | 1115824.08 |  844085.52 |\n| Sub-Saharan Africa                | Eritrea                        | Cereal          | Online  | H | 3/4/2015   | 679414975 | 4/17/2015  | 2844 | 205.70 | 117.11 |  585010.80 |  333060.84 |  251949.96 |\n| Europe                            | Montenegro                     | Clothes         | Offline | M | 5/17/2012  | 208630645 | 6/28/2012  | 7299 | 109.28 |  35.84 |  797634.72 |  261596.16 |  536038.56 |\n| Central America and the Caribbean | Jamaica                        | Vegetables      | Online  | H | 1/29/2015  | 266467225 | 3/7/2015   | 2428 | 154.06 |  90.93 |  374057.68 |  220778.04 |  153279.64 |\n| Australia and Oceania             | Fiji                           | Vegetables      | Offline | H | 12/24/2013 | 118598544 | 1/19/2014  | 4800 | 154.06 |  90.93 |  739488.00 |  436464.00 |  303024.00 |\n| Sub-Saharan Africa                | Togo                           | Clothes         | Online  | M | 12/29/2015 | 451010930 | 1/19/2016  | 3012 | 109.28 |  35.84 |  329151.36 |  107950.08 |  221201.28 |\n| Europe                            | Montenegro                     | Snacks          | Offline | M | 2/27/2010  | 220003211 | 3/18/2010  | 2694 | 152.58 |  97.44 |  411050.52 |  262503.36 |  148547.16 |\n| Europe                            | Greece                         | Household       | Online  | C | 11/17/2016 | 702186715 | 12/22/2016 | 1508 | 668.27 | 502.54 | 1007751.16 |  757830.32 |  249920.84 |\n| Sub-Saharan Africa                | Sudan                          | Cosmetics       | Online  | C | 12/20/2015 | 544485270 | 1/5/2016   | 4146 | 437.20 | 263.33 | 1812631.20 | 1091766.18 |  720865.02 |\n| Asia                              | Maldives                       | Fruits          | Offline | L | 1/8/2011   | 714135205 | 2/6/2011   | 7332 |   9.33 |   6.92 |   68407.56 |   50737.44 |   17670.12 |\n| Europe                            | Montenegro                     | Clothes         | Offline | H | 6/28/2010  | 448685348 | 7/22/2010  | 4820 | 109.28 |  35.84 |  526729.60 |  172748.80 |  353980.80 |\n| Europe                            | Estonia                        | Office Supplies | Online  | H | 4/25/2016  | 405997025 | 5/12/2016  | 2397 | 651.21 | 524.96 | 1560950.37 | 1258329.12 |  302621.25 |\n| North America                     | Greenland                      | Beverages       | Online  | M | 7/27/2012  | 414244067 | 8/7/2012   | 2880 |  47.45 |  31.79 |  136656.00 |   91555.20 |   45100.80 |\n| Sub-Saharan Africa                | Cape Verde                     | Clothes         | Online  | C | 9/8/2014   | 821912801 | 10/3/2014  | 1117 | 109.28 |  35.84 |  122065.76 |   40033.28 |   82032.48 |\n| Sub-Saharan Africa                | Senegal                        | Household       | Offline | L | 8/27/2012  | 247802054 | 9/8/2012   | 8989 | 668.27 | 502.54 | 6007079.03 | 4517332.06 | 1489746.97 |\n| Australia and Oceania             | Federated States of Micronesia | Snacks          | Online  | C | 9/3/2012   | 531023156 | 10/15/2012 |  407 | 152.58 |  97.44 |   62100.06 |   39658.08 |   22441.98 |\n| Europe                            | Bulgaria                       | Clothes         | Online  | L | 8/27/2010  | 880999934 | 9/16/2010  | 6313 | 109.28 |  35.84 |  689884.64 |  226257.92 |  463626.72 |\n| Middle East and North Africa      | Algeria                        | Personal Care   | Online  | H | 2/20/2011  | 127468717 | 3/9/2011   | 9681 |  81.73 |  56.67 |  791228.13 |  548622.27 |  242605.86 |\n| Asia                              | Mongolia                       | Clothes         | Online  | L | 12/12/2015 | 770478332 | 1/24/2016  |  515 | 109.28 |  35.84 |   56279.20 |   18457.60 |   37821.60 |\n| Central America and the Caribbean | Grenada                        | Cereal          | Online  | H | 10/28/2012 | 430390107 | 11/13/2012 |  852 | 205.70 | 117.11 |  175256.40 |   99777.72 |   75478.68 |\n| Central America and the Caribbean | Grenada                        | Beverages       | Online  | M | 1/30/2017  | 397877871 | 3/20/2017  | 9759 |  47.45 |  31.79 |  463064.55 |  310238.61 |  152825.94 |\n| Sub-Saharan Africa                | Senegal                        | Beverages       | Offline | M | 10/22/2014 | 683927953 | 11/4/2014  | 8334 |  47.45 |  31.79 |  395448.30 |  264937.86 |  130510.44 |\n| North America                     | Greenland                      | Fruits          | Offline | M | 1/31/2012  | 469839179 | 2/22/2012  | 4709 |   9.33 |   6.92 |   43934.97 |   32586.28 |   11348.69 |\n| Sub-Saharan Africa                | Chad                           | Meat            | Offline | H | 1/20/2016  | 357222878 | 3/9/2016   | 9043 | 421.89 | 364.69 | 3815151.27 | 3297891.67 |  517259.60 |\n| Sub-Saharan Africa                | Mauritius                      | Personal Care   | Online  | C | 1/1/2016   | 118002879 | 1/7/2016   | 8529 |  81.73 |  56.67 |  697075.17 |  483338.43 |  213736.74 |\n| ⋮ | ⋮ | ⋮ | ⋮ | ⋮ | ⋮ | ⋮ | ⋮ | ⋮ | ⋮ | ⋮ | ⋮ | ⋮ | ⋮ |\n| Central America and the Caribbean | Saint Kitts and Nevis            | Cereal          | Offline | H | 2/21/2016  | 708063542 | 3/19/2016  |  592 | 205.70 | 117.11 |  121774.40 |   69329.12 |   52445.28 |\n| Sub-Saharan Africa                | Sudan                            | Vegetables      | Offline | H | 12/4/2016  | 817192542 | 12/22/2016 | 4288 | 154.06 |  90.93 |  660609.28 |  389907.84 |  270701.44 |\n| Central America and the Caribbean | Guatemala                        | Meat            | Offline | H | 1/16/2012  | 936387765 | 2/29/2012  | 6803 | 421.89 | 364.69 | 2870117.67 | 2480986.07 |  389131.60 |\n| Asia                              | Brunei                           | Clothes         | Offline | H | 8/6/2011   | 612573039 | 8/9/2011   | 2830 | 109.28 |  35.84 |  309262.40 |  101427.20 |  207835.20 |\n| Middle East and North Africa      | Jordan                           | Clothes         | Online  | M | 8/12/2011  | 812984693 | 8/22/2011  | 9092 | 109.28 |  35.84 |  993573.76 |  325857.28 |  667716.48 |\n| Central America and the Caribbean | Panama                           | Meat            | Offline | C | 12/18/2012 | 775171554 | 1/5/2013   | 9344 | 421.89 | 364.69 | 3942140.16 | 3407663.36 |  534476.80 |\n| Sub-Saharan Africa                | Central African Republic         | Household       | Online  | H | 1/10/2010  | 256994950 | 2/19/2010  | 9372 | 668.27 | 502.54 | 6263026.44 | 4709804.88 | 1553221.56 |\n| Middle East and North Africa      | Bahrain                          | Beverages       | Offline | M | 2/28/2017  | 886628711 | 3/31/2017  | 1993 |  47.45 |  31.79 |   94567.85 |   63357.47 |   31210.38 |\n| Sub-Saharan Africa                | Burundi                          | Beverages       | Online  | C | 12/8/2011  | 312559163 | 12/16/2011 | 2057 |  47.45 |  31.79 |   97604.65 |   65392.03 |   32212.62 |\n| Europe                            | Austria                          | Cereal          | Online  | L | 8/18/2014  | 753585135 | 9/13/2014  | 1443 | 205.70 | 117.11 |  296825.10 |  168989.73 |  127835.37 |\n| Australia and Oceania             | Fiji                             | Beverages       | Offline | H | 4/19/2016  | 448817956 | 4/22/2016  | 4062 |  47.45 |  31.79 |  192741.90 |  129130.98 |   63610.92 |\n| Australia and Oceania             | Fiji                             | Clothes         | Offline | M | 11/6/2012  | 407681453 | 12/24/2012 |  856 | 109.28 |  35.84 |   93543.68 |   30679.04 |   62864.64 |\n| Europe                            | Switzerland                      | Snacks          | Online  | H | 5/27/2016  | 359911954 | 6/23/2016  | 4800 | 152.58 |  97.44 |  732384.00 |  467712.00 |  264672.00 |\n| Middle East and North Africa      | Yemen                            | Office Supplies | Offline | M | 8/18/2013  | 105558288 | 8/19/2013  | 5898 | 651.21 | 524.96 | 3840836.58 | 3096214.08 |  744622.50 |\n| Sub-Saharan Africa                | Comoros                          | Personal Care   | Offline | H | 12/31/2014 | 864981782 | 2/11/2015  | 6186 |  81.73 |  56.67 |  505581.78 |  350560.62 |  155021.16 |\n| Sub-Saharan Africa                | Democratic Republic of the Congo | Office Supplies | Online  | C | 2/4/2013   | 328856265 | 2/12/2013  | 4732 | 651.21 | 524.96 | 3081525.72 | 2484110.72 |  597415.00 |\n| Asia                              | Mongolia                         | Clothes         | Offline | H | 9/23/2016  | 308168065 | 10/18/2016 | 2633 | 109.28 |  35.84 |  287734.24 |   94366.72 |  193367.52 |\n| Australia and Oceania             | Palau                            | Household       | Offline | L | 11/1/2016  | 884216010 | 11/2/2016  | 8021 | 668.27 | 502.54 | 5360193.67 | 4030873.34 | 1329320.33 |\n| Europe                            | Monaco                           | Snacks          | Offline | M | 12/27/2012 | 858611428 | 1/9/2013   | 1057 | 152.58 |  97.44 |  161277.06 |  102994.08 |   58282.98 |\n| Australia and Oceania             | Fiji                             | Cereal          | Online  | L | 3/10/2017  | 903278148 | 4/3/2017   | 8932 | 205.70 | 117.11 | 1837312.40 | 1046026.52 |  791285.88 |\n| Sub-Saharan Africa                | Mali                             | Beverages       | Online  | L | 3/17/2012  | 410452497 | 3/26/2012  |  870 |  47.45 |  31.79 |   41281.50 |   27657.30 |   13624.20 |\n| Sub-Saharan Africa                | Liberia                          | Cereal          | Offline | H | 12/17/2015 | 642683303 | 1/20/2016  | 3126 | 205.70 | 117.11 |  643018.20 |  366085.86 |  276932.34 |\n| Europe                            | Switzerland                      | Beverages       | Offline | L | 2/18/2017  | 682831895 | 3/16/2017  | 3987 |  47.45 |  31.79 |  189183.15 |  126746.73 |   62436.42 |\n| Australia and Oceania             | Samoa                            | Baby Food       | Online  | L | 11/5/2016  | 584072101 | 11/5/2016  | 8769 | 255.28 | 159.42 | 2238550.32 | 1397953.98 |  840596.34 |\n| Asia                              | Nepal                            | Meat            | Offline | C | 4/9/2017   | 919890248 | 5/18/2017  | 4821 | 421.89 | 364.69 | 2033931.69 | 1758170.49 |  275761.20 |\n| Middle East and North Africa      | Azerbaijan                       | Snacks          | Offline | C | 4/18/2010  | 534085166 | 4/25/2010  | 6524 | 152.58 |  97.44 |  995431.92 |  635698.56 |  359733.36 |\n| Europe                            | Georgia                          | Baby Food       | Offline | H | 8/1/2011   | 590768182 | 9/7/2011   |  288 | 255.28 | 159.42 |   73520.64 |   45912.96 |   27607.68 |\n| Middle East and North Africa      | United Arab Emirates             | Vegetables      | Online  | C | 5/12/2011  | 524363124 | 6/28/2011  | 9556 | 154.06 |  90.93 | 1472197.36 |  868927.08 |  603270.28 |\n| Europe                            | Finland                          | Household       | Offline | L | 1/25/2016  | 289606320 | 2/14/2016  | 9801 | 668.27 | 502.54 | 6549714.27 | 4925394.54 | 1624319.73 |\n| Europe                            | Portugal                         | Cereal          | Offline | C | 4/10/2014  | 811546599 | 5/8/2014   | 3528 | 205.70 | 117.11 |  725709.60 |  413164.08 |  312545.52 |\n\n",
            "text/html": [
              "<table class=\"dataframe\">\n",
              "<caption>A data.frame: 1000 × 14</caption>\n",
              "<thead>\n",
              "\t<tr><th scope=col>Region</th><th scope=col>Country</th><th scope=col>Item.Type</th><th scope=col>Sales.Channel</th><th scope=col>Order.Priority</th><th scope=col>Order.Date</th><th scope=col>Order.ID</th><th scope=col>Ship.Date</th><th scope=col>Units.Sold</th><th scope=col>Unit.Price</th><th scope=col>Unit.Cost</th><th scope=col>Total.Revenue</th><th scope=col>Total.Cost</th><th scope=col>Total.Profit</th></tr>\n",
              "\t<tr><th scope=col>&lt;chr&gt;</th><th scope=col>&lt;chr&gt;</th><th scope=col>&lt;chr&gt;</th><th scope=col>&lt;chr&gt;</th><th scope=col>&lt;chr&gt;</th><th scope=col>&lt;chr&gt;</th><th scope=col>&lt;int&gt;</th><th scope=col>&lt;chr&gt;</th><th scope=col>&lt;int&gt;</th><th scope=col>&lt;dbl&gt;</th><th scope=col>&lt;dbl&gt;</th><th scope=col>&lt;dbl&gt;</th><th scope=col>&lt;dbl&gt;</th><th scope=col>&lt;dbl&gt;</th></tr>\n",
              "</thead>\n",
              "<tbody>\n",
              "\t<tr><td>Middle East and North Africa     </td><td>Libya                         </td><td>Cosmetics      </td><td>Offline</td><td>M</td><td>10/18/2014</td><td>686800706</td><td>10/31/2014</td><td>8446</td><td>437.20</td><td>263.33</td><td>3692591.20</td><td>2224085.18</td><td>1468506.02</td></tr>\n",
              "\t<tr><td>North America                    </td><td>Canada                        </td><td>Vegetables     </td><td>Online </td><td>M</td><td>11/7/2011 </td><td>185941302</td><td>12/8/2011 </td><td>3018</td><td>154.06</td><td> 90.93</td><td> 464953.08</td><td> 274426.74</td><td> 190526.34</td></tr>\n",
              "\t<tr><td>Middle East and North Africa     </td><td>Libya                         </td><td>Baby Food      </td><td>Offline</td><td>C</td><td>10/31/2016</td><td>246222341</td><td>12/9/2016 </td><td>1517</td><td>255.28</td><td>159.42</td><td> 387259.76</td><td> 241840.14</td><td> 145419.62</td></tr>\n",
              "\t<tr><td>Asia                             </td><td>Japan                         </td><td>Cereal         </td><td>Offline</td><td>C</td><td>4/10/2010 </td><td>161442649</td><td>5/12/2010 </td><td>3322</td><td>205.70</td><td>117.11</td><td> 683335.40</td><td> 389039.42</td><td> 294295.98</td></tr>\n",
              "\t<tr><td>Sub-Saharan Africa               </td><td>Chad                          </td><td>Fruits         </td><td>Offline</td><td>H</td><td>8/16/2011 </td><td>645713555</td><td>8/31/2011 </td><td>9845</td><td>  9.33</td><td>  6.92</td><td>  91853.85</td><td>  68127.40</td><td>  23726.45</td></tr>\n",
              "\t<tr><td>Europe                           </td><td>Armenia                       </td><td>Cereal         </td><td>Online </td><td>H</td><td>11/24/2014</td><td>683458888</td><td>12/28/2014</td><td>9528</td><td>205.70</td><td>117.11</td><td>1959909.60</td><td>1115824.08</td><td> 844085.52</td></tr>\n",
              "\t<tr><td>Sub-Saharan Africa               </td><td>Eritrea                       </td><td>Cereal         </td><td>Online </td><td>H</td><td>3/4/2015  </td><td>679414975</td><td>4/17/2015 </td><td>2844</td><td>205.70</td><td>117.11</td><td> 585010.80</td><td> 333060.84</td><td> 251949.96</td></tr>\n",
              "\t<tr><td>Europe                           </td><td>Montenegro                    </td><td>Clothes        </td><td>Offline</td><td>M</td><td>5/17/2012 </td><td>208630645</td><td>6/28/2012 </td><td>7299</td><td>109.28</td><td> 35.84</td><td> 797634.72</td><td> 261596.16</td><td> 536038.56</td></tr>\n",
              "\t<tr><td>Central America and the Caribbean</td><td>Jamaica                       </td><td>Vegetables     </td><td>Online </td><td>H</td><td>1/29/2015 </td><td>266467225</td><td>3/7/2015  </td><td>2428</td><td>154.06</td><td> 90.93</td><td> 374057.68</td><td> 220778.04</td><td> 153279.64</td></tr>\n",
              "\t<tr><td>Australia and Oceania            </td><td>Fiji                          </td><td>Vegetables     </td><td>Offline</td><td>H</td><td>12/24/2013</td><td>118598544</td><td>1/19/2014 </td><td>4800</td><td>154.06</td><td> 90.93</td><td> 739488.00</td><td> 436464.00</td><td> 303024.00</td></tr>\n",
              "\t<tr><td>Sub-Saharan Africa               </td><td>Togo                          </td><td>Clothes        </td><td>Online </td><td>M</td><td>12/29/2015</td><td>451010930</td><td>1/19/2016 </td><td>3012</td><td>109.28</td><td> 35.84</td><td> 329151.36</td><td> 107950.08</td><td> 221201.28</td></tr>\n",
              "\t<tr><td>Europe                           </td><td>Montenegro                    </td><td>Snacks         </td><td>Offline</td><td>M</td><td>2/27/2010 </td><td>220003211</td><td>3/18/2010 </td><td>2694</td><td>152.58</td><td> 97.44</td><td> 411050.52</td><td> 262503.36</td><td> 148547.16</td></tr>\n",
              "\t<tr><td>Europe                           </td><td>Greece                        </td><td>Household      </td><td>Online </td><td>C</td><td>11/17/2016</td><td>702186715</td><td>12/22/2016</td><td>1508</td><td>668.27</td><td>502.54</td><td>1007751.16</td><td> 757830.32</td><td> 249920.84</td></tr>\n",
              "\t<tr><td>Sub-Saharan Africa               </td><td>Sudan                         </td><td>Cosmetics      </td><td>Online </td><td>C</td><td>12/20/2015</td><td>544485270</td><td>1/5/2016  </td><td>4146</td><td>437.20</td><td>263.33</td><td>1812631.20</td><td>1091766.18</td><td> 720865.02</td></tr>\n",
              "\t<tr><td>Asia                             </td><td>Maldives                      </td><td>Fruits         </td><td>Offline</td><td>L</td><td>1/8/2011  </td><td>714135205</td><td>2/6/2011  </td><td>7332</td><td>  9.33</td><td>  6.92</td><td>  68407.56</td><td>  50737.44</td><td>  17670.12</td></tr>\n",
              "\t<tr><td>Europe                           </td><td>Montenegro                    </td><td>Clothes        </td><td>Offline</td><td>H</td><td>6/28/2010 </td><td>448685348</td><td>7/22/2010 </td><td>4820</td><td>109.28</td><td> 35.84</td><td> 526729.60</td><td> 172748.80</td><td> 353980.80</td></tr>\n",
              "\t<tr><td>Europe                           </td><td>Estonia                       </td><td>Office Supplies</td><td>Online </td><td>H</td><td>4/25/2016 </td><td>405997025</td><td>5/12/2016 </td><td>2397</td><td>651.21</td><td>524.96</td><td>1560950.37</td><td>1258329.12</td><td> 302621.25</td></tr>\n",
              "\t<tr><td>North America                    </td><td>Greenland                     </td><td>Beverages      </td><td>Online </td><td>M</td><td>7/27/2012 </td><td>414244067</td><td>8/7/2012  </td><td>2880</td><td> 47.45</td><td> 31.79</td><td> 136656.00</td><td>  91555.20</td><td>  45100.80</td></tr>\n",
              "\t<tr><td>Sub-Saharan Africa               </td><td>Cape Verde                    </td><td>Clothes        </td><td>Online </td><td>C</td><td>9/8/2014  </td><td>821912801</td><td>10/3/2014 </td><td>1117</td><td>109.28</td><td> 35.84</td><td> 122065.76</td><td>  40033.28</td><td>  82032.48</td></tr>\n",
              "\t<tr><td>Sub-Saharan Africa               </td><td>Senegal                       </td><td>Household      </td><td>Offline</td><td>L</td><td>8/27/2012 </td><td>247802054</td><td>9/8/2012  </td><td>8989</td><td>668.27</td><td>502.54</td><td>6007079.03</td><td>4517332.06</td><td>1489746.97</td></tr>\n",
              "\t<tr><td>Australia and Oceania            </td><td>Federated States of Micronesia</td><td>Snacks         </td><td>Online </td><td>C</td><td>9/3/2012  </td><td>531023156</td><td>10/15/2012</td><td> 407</td><td>152.58</td><td> 97.44</td><td>  62100.06</td><td>  39658.08</td><td>  22441.98</td></tr>\n",
              "\t<tr><td>Europe                           </td><td>Bulgaria                      </td><td>Clothes        </td><td>Online </td><td>L</td><td>8/27/2010 </td><td>880999934</td><td>9/16/2010 </td><td>6313</td><td>109.28</td><td> 35.84</td><td> 689884.64</td><td> 226257.92</td><td> 463626.72</td></tr>\n",
              "\t<tr><td>Middle East and North Africa     </td><td>Algeria                       </td><td>Personal Care  </td><td>Online </td><td>H</td><td>2/20/2011 </td><td>127468717</td><td>3/9/2011  </td><td>9681</td><td> 81.73</td><td> 56.67</td><td> 791228.13</td><td> 548622.27</td><td> 242605.86</td></tr>\n",
              "\t<tr><td>Asia                             </td><td>Mongolia                      </td><td>Clothes        </td><td>Online </td><td>L</td><td>12/12/2015</td><td>770478332</td><td>1/24/2016 </td><td> 515</td><td>109.28</td><td> 35.84</td><td>  56279.20</td><td>  18457.60</td><td>  37821.60</td></tr>\n",
              "\t<tr><td>Central America and the Caribbean</td><td>Grenada                       </td><td>Cereal         </td><td>Online </td><td>H</td><td>10/28/2012</td><td>430390107</td><td>11/13/2012</td><td> 852</td><td>205.70</td><td>117.11</td><td> 175256.40</td><td>  99777.72</td><td>  75478.68</td></tr>\n",
              "\t<tr><td>Central America and the Caribbean</td><td>Grenada                       </td><td>Beverages      </td><td>Online </td><td>M</td><td>1/30/2017 </td><td>397877871</td><td>3/20/2017 </td><td>9759</td><td> 47.45</td><td> 31.79</td><td> 463064.55</td><td> 310238.61</td><td> 152825.94</td></tr>\n",
              "\t<tr><td>Sub-Saharan Africa               </td><td>Senegal                       </td><td>Beverages      </td><td>Offline</td><td>M</td><td>10/22/2014</td><td>683927953</td><td>11/4/2014 </td><td>8334</td><td> 47.45</td><td> 31.79</td><td> 395448.30</td><td> 264937.86</td><td> 130510.44</td></tr>\n",
              "\t<tr><td>North America                    </td><td>Greenland                     </td><td>Fruits         </td><td>Offline</td><td>M</td><td>1/31/2012 </td><td>469839179</td><td>2/22/2012 </td><td>4709</td><td>  9.33</td><td>  6.92</td><td>  43934.97</td><td>  32586.28</td><td>  11348.69</td></tr>\n",
              "\t<tr><td>Sub-Saharan Africa               </td><td>Chad                          </td><td>Meat           </td><td>Offline</td><td>H</td><td>1/20/2016 </td><td>357222878</td><td>3/9/2016  </td><td>9043</td><td>421.89</td><td>364.69</td><td>3815151.27</td><td>3297891.67</td><td> 517259.60</td></tr>\n",
              "\t<tr><td>Sub-Saharan Africa               </td><td>Mauritius                     </td><td>Personal Care  </td><td>Online </td><td>C</td><td>1/1/2016  </td><td>118002879</td><td>1/7/2016  </td><td>8529</td><td> 81.73</td><td> 56.67</td><td> 697075.17</td><td> 483338.43</td><td> 213736.74</td></tr>\n",
              "\t<tr><td>⋮</td><td>⋮</td><td>⋮</td><td>⋮</td><td>⋮</td><td>⋮</td><td>⋮</td><td>⋮</td><td>⋮</td><td>⋮</td><td>⋮</td><td>⋮</td><td>⋮</td><td>⋮</td></tr>\n",
              "\t<tr><td>Central America and the Caribbean</td><td>Saint Kitts and Nevis           </td><td>Cereal         </td><td>Offline</td><td>H</td><td>2/21/2016 </td><td>708063542</td><td>3/19/2016 </td><td> 592</td><td>205.70</td><td>117.11</td><td> 121774.40</td><td>  69329.12</td><td>  52445.28</td></tr>\n",
              "\t<tr><td>Sub-Saharan Africa               </td><td>Sudan                           </td><td>Vegetables     </td><td>Offline</td><td>H</td><td>12/4/2016 </td><td>817192542</td><td>12/22/2016</td><td>4288</td><td>154.06</td><td> 90.93</td><td> 660609.28</td><td> 389907.84</td><td> 270701.44</td></tr>\n",
              "\t<tr><td>Central America and the Caribbean</td><td>Guatemala                       </td><td>Meat           </td><td>Offline</td><td>H</td><td>1/16/2012 </td><td>936387765</td><td>2/29/2012 </td><td>6803</td><td>421.89</td><td>364.69</td><td>2870117.67</td><td>2480986.07</td><td> 389131.60</td></tr>\n",
              "\t<tr><td>Asia                             </td><td>Brunei                          </td><td>Clothes        </td><td>Offline</td><td>H</td><td>8/6/2011  </td><td>612573039</td><td>8/9/2011  </td><td>2830</td><td>109.28</td><td> 35.84</td><td> 309262.40</td><td> 101427.20</td><td> 207835.20</td></tr>\n",
              "\t<tr><td>Middle East and North Africa     </td><td>Jordan                          </td><td>Clothes        </td><td>Online </td><td>M</td><td>8/12/2011 </td><td>812984693</td><td>8/22/2011 </td><td>9092</td><td>109.28</td><td> 35.84</td><td> 993573.76</td><td> 325857.28</td><td> 667716.48</td></tr>\n",
              "\t<tr><td>Central America and the Caribbean</td><td>Panama                          </td><td>Meat           </td><td>Offline</td><td>C</td><td>12/18/2012</td><td>775171554</td><td>1/5/2013  </td><td>9344</td><td>421.89</td><td>364.69</td><td>3942140.16</td><td>3407663.36</td><td> 534476.80</td></tr>\n",
              "\t<tr><td>Sub-Saharan Africa               </td><td>Central African Republic        </td><td>Household      </td><td>Online </td><td>H</td><td>1/10/2010 </td><td>256994950</td><td>2/19/2010 </td><td>9372</td><td>668.27</td><td>502.54</td><td>6263026.44</td><td>4709804.88</td><td>1553221.56</td></tr>\n",
              "\t<tr><td>Middle East and North Africa     </td><td>Bahrain                         </td><td>Beverages      </td><td>Offline</td><td>M</td><td>2/28/2017 </td><td>886628711</td><td>3/31/2017 </td><td>1993</td><td> 47.45</td><td> 31.79</td><td>  94567.85</td><td>  63357.47</td><td>  31210.38</td></tr>\n",
              "\t<tr><td>Sub-Saharan Africa               </td><td>Burundi                         </td><td>Beverages      </td><td>Online </td><td>C</td><td>12/8/2011 </td><td>312559163</td><td>12/16/2011</td><td>2057</td><td> 47.45</td><td> 31.79</td><td>  97604.65</td><td>  65392.03</td><td>  32212.62</td></tr>\n",
              "\t<tr><td>Europe                           </td><td>Austria                         </td><td>Cereal         </td><td>Online </td><td>L</td><td>8/18/2014 </td><td>753585135</td><td>9/13/2014 </td><td>1443</td><td>205.70</td><td>117.11</td><td> 296825.10</td><td> 168989.73</td><td> 127835.37</td></tr>\n",
              "\t<tr><td>Australia and Oceania            </td><td>Fiji                            </td><td>Beverages      </td><td>Offline</td><td>H</td><td>4/19/2016 </td><td>448817956</td><td>4/22/2016 </td><td>4062</td><td> 47.45</td><td> 31.79</td><td> 192741.90</td><td> 129130.98</td><td>  63610.92</td></tr>\n",
              "\t<tr><td>Australia and Oceania            </td><td>Fiji                            </td><td>Clothes        </td><td>Offline</td><td>M</td><td>11/6/2012 </td><td>407681453</td><td>12/24/2012</td><td> 856</td><td>109.28</td><td> 35.84</td><td>  93543.68</td><td>  30679.04</td><td>  62864.64</td></tr>\n",
              "\t<tr><td>Europe                           </td><td>Switzerland                     </td><td>Snacks         </td><td>Online </td><td>H</td><td>5/27/2016 </td><td>359911954</td><td>6/23/2016 </td><td>4800</td><td>152.58</td><td> 97.44</td><td> 732384.00</td><td> 467712.00</td><td> 264672.00</td></tr>\n",
              "\t<tr><td>Middle East and North Africa     </td><td>Yemen                           </td><td>Office Supplies</td><td>Offline</td><td>M</td><td>8/18/2013 </td><td>105558288</td><td>8/19/2013 </td><td>5898</td><td>651.21</td><td>524.96</td><td>3840836.58</td><td>3096214.08</td><td> 744622.50</td></tr>\n",
              "\t<tr><td>Sub-Saharan Africa               </td><td>Comoros                         </td><td>Personal Care  </td><td>Offline</td><td>H</td><td>12/31/2014</td><td>864981782</td><td>2/11/2015 </td><td>6186</td><td> 81.73</td><td> 56.67</td><td> 505581.78</td><td> 350560.62</td><td> 155021.16</td></tr>\n",
              "\t<tr><td>Sub-Saharan Africa               </td><td>Democratic Republic of the Congo</td><td>Office Supplies</td><td>Online </td><td>C</td><td>2/4/2013  </td><td>328856265</td><td>2/12/2013 </td><td>4732</td><td>651.21</td><td>524.96</td><td>3081525.72</td><td>2484110.72</td><td> 597415.00</td></tr>\n",
              "\t<tr><td>Asia                             </td><td>Mongolia                        </td><td>Clothes        </td><td>Offline</td><td>H</td><td>9/23/2016 </td><td>308168065</td><td>10/18/2016</td><td>2633</td><td>109.28</td><td> 35.84</td><td> 287734.24</td><td>  94366.72</td><td> 193367.52</td></tr>\n",
              "\t<tr><td>Australia and Oceania            </td><td>Palau                           </td><td>Household      </td><td>Offline</td><td>L</td><td>11/1/2016 </td><td>884216010</td><td>11/2/2016 </td><td>8021</td><td>668.27</td><td>502.54</td><td>5360193.67</td><td>4030873.34</td><td>1329320.33</td></tr>\n",
              "\t<tr><td>Europe                           </td><td>Monaco                          </td><td>Snacks         </td><td>Offline</td><td>M</td><td>12/27/2012</td><td>858611428</td><td>1/9/2013  </td><td>1057</td><td>152.58</td><td> 97.44</td><td> 161277.06</td><td> 102994.08</td><td>  58282.98</td></tr>\n",
              "\t<tr><td>Australia and Oceania            </td><td>Fiji                            </td><td>Cereal         </td><td>Online </td><td>L</td><td>3/10/2017 </td><td>903278148</td><td>4/3/2017  </td><td>8932</td><td>205.70</td><td>117.11</td><td>1837312.40</td><td>1046026.52</td><td> 791285.88</td></tr>\n",
              "\t<tr><td>Sub-Saharan Africa               </td><td>Mali                            </td><td>Beverages      </td><td>Online </td><td>L</td><td>3/17/2012 </td><td>410452497</td><td>3/26/2012 </td><td> 870</td><td> 47.45</td><td> 31.79</td><td>  41281.50</td><td>  27657.30</td><td>  13624.20</td></tr>\n",
              "\t<tr><td>Sub-Saharan Africa               </td><td>Liberia                         </td><td>Cereal         </td><td>Offline</td><td>H</td><td>12/17/2015</td><td>642683303</td><td>1/20/2016 </td><td>3126</td><td>205.70</td><td>117.11</td><td> 643018.20</td><td> 366085.86</td><td> 276932.34</td></tr>\n",
              "\t<tr><td>Europe                           </td><td>Switzerland                     </td><td>Beverages      </td><td>Offline</td><td>L</td><td>2/18/2017 </td><td>682831895</td><td>3/16/2017 </td><td>3987</td><td> 47.45</td><td> 31.79</td><td> 189183.15</td><td> 126746.73</td><td>  62436.42</td></tr>\n",
              "\t<tr><td>Australia and Oceania            </td><td>Samoa                           </td><td>Baby Food      </td><td>Online </td><td>L</td><td>11/5/2016 </td><td>584072101</td><td>11/5/2016 </td><td>8769</td><td>255.28</td><td>159.42</td><td>2238550.32</td><td>1397953.98</td><td> 840596.34</td></tr>\n",
              "\t<tr><td>Asia                             </td><td>Nepal                           </td><td>Meat           </td><td>Offline</td><td>C</td><td>4/9/2017  </td><td>919890248</td><td>5/18/2017 </td><td>4821</td><td>421.89</td><td>364.69</td><td>2033931.69</td><td>1758170.49</td><td> 275761.20</td></tr>\n",
              "\t<tr><td>Middle East and North Africa     </td><td>Azerbaijan                      </td><td>Snacks         </td><td>Offline</td><td>C</td><td>4/18/2010 </td><td>534085166</td><td>4/25/2010 </td><td>6524</td><td>152.58</td><td> 97.44</td><td> 995431.92</td><td> 635698.56</td><td> 359733.36</td></tr>\n",
              "\t<tr><td>Europe                           </td><td>Georgia                         </td><td>Baby Food      </td><td>Offline</td><td>H</td><td>8/1/2011  </td><td>590768182</td><td>9/7/2011  </td><td> 288</td><td>255.28</td><td>159.42</td><td>  73520.64</td><td>  45912.96</td><td>  27607.68</td></tr>\n",
              "\t<tr><td>Middle East and North Africa     </td><td>United Arab Emirates            </td><td>Vegetables     </td><td>Online </td><td>C</td><td>5/12/2011 </td><td>524363124</td><td>6/28/2011 </td><td>9556</td><td>154.06</td><td> 90.93</td><td>1472197.36</td><td> 868927.08</td><td> 603270.28</td></tr>\n",
              "\t<tr><td>Europe                           </td><td>Finland                         </td><td>Household      </td><td>Offline</td><td>L</td><td>1/25/2016 </td><td>289606320</td><td>2/14/2016 </td><td>9801</td><td>668.27</td><td>502.54</td><td>6549714.27</td><td>4925394.54</td><td>1624319.73</td></tr>\n",
              "\t<tr><td>Europe                           </td><td>Portugal                        </td><td>Cereal         </td><td>Offline</td><td>C</td><td>4/10/2014 </td><td>811546599</td><td>5/8/2014  </td><td>3528</td><td>205.70</td><td>117.11</td><td> 725709.60</td><td> 413164.08</td><td> 312545.52</td></tr>\n",
              "</tbody>\n",
              "</table>\n"
            ]
          },
          "metadata": {
            "tags": []
          }
        }
      ]
    },
    {
      "cell_type": "code",
      "metadata": {
        "colab": {
          "base_uri": "https://localhost:8080/",
          "height": 722
        },
        "id": "EdoFvA62Rjua",
        "outputId": "745e83e5-89f2-4ad9-e15a-82ac41891aa5"
      },
      "source": [
        "\n",
        "# a. summarize the entire data using apropriate R Command.\n",
        "library(dplyr)\n",
        "\n",
        "summary(data)"
      ],
      "execution_count": 2,
      "outputs": [
        {
          "output_type": "stream",
          "text": [
            "\n",
            "Attaching package: ‘dplyr’\n",
            "\n",
            "\n",
            "The following objects are masked from ‘package:stats’:\n",
            "\n",
            "    filter, lag\n",
            "\n",
            "\n",
            "The following objects are masked from ‘package:base’:\n",
            "\n",
            "    intersect, setdiff, setequal, union\n",
            "\n",
            "\n"
          ],
          "name": "stderr"
        },
        {
          "output_type": "display_data",
          "data": {
            "text/plain": [
              "    Region            Country           Item.Type         Sales.Channel     \n",
              " Length:1000        Length:1000        Length:1000        Length:1000       \n",
              " Class :character   Class :character   Class :character   Class :character  \n",
              " Mode  :character   Mode  :character   Mode  :character   Mode  :character  \n",
              "                                                                            \n",
              "                                                                            \n",
              "                                                                            \n",
              " Order.Priority      Order.Date           Order.ID          Ship.Date        \n",
              " Length:1000        Length:1000        Min.   :102928006   Length:1000       \n",
              " Class :character   Class :character   1st Qu.:328074026   Class :character  \n",
              " Mode  :character   Mode  :character   Median :556609714   Mode  :character  \n",
              "                                       Mean   :549681325                     \n",
              "                                       3rd Qu.:769694483                     \n",
              "                                       Max.   :995529830                     \n",
              "   Units.Sold     Unit.Price       Unit.Cost      Total.Revenue    \n",
              " Min.   :  13   Min.   :  9.33   Min.   :  6.92   Min.   :   2043  \n",
              " 1st Qu.:2420   1st Qu.: 81.73   1st Qu.: 56.67   1st Qu.: 281192  \n",
              " Median :5184   Median :154.06   Median : 97.44   Median : 754939  \n",
              " Mean   :5054   Mean   :262.11   Mean   :184.97   Mean   :1327322  \n",
              " 3rd Qu.:7537   3rd Qu.:421.89   3rd Qu.:263.33   3rd Qu.:1733503  \n",
              " Max.   :9998   Max.   :668.27   Max.   :524.96   Max.   :6617210  \n",
              "   Total.Cost       Total.Profit      \n",
              " Min.   :   1417   Min.   :    532.6  \n",
              " 1st Qu.: 164932   1st Qu.:  98376.1  \n",
              " Median : 464726   Median : 277226.0  \n",
              " Mean   : 936119   Mean   : 391202.6  \n",
              " 3rd Qu.:1141750   3rd Qu.: 548456.8  \n",
              " Max.   :5204978   Max.   :1726181.4  "
            ]
          },
          "metadata": {
            "tags": []
          }
        }
      ]
    },
    {
      "cell_type": "code",
      "metadata": {
        "colab": {
          "base_uri": "https://localhost:8080/",
          "height": 34
        },
        "id": "ZoJe0eKeSMhO",
        "outputId": "97f90b6d-4e43-49a8-96cf-d6812fa97cca"
      },
      "source": [
        "\n",
        "# b. show class of variable holding data\n",
        "class(data)"
      ],
      "execution_count": 4,
      "outputs": [
        {
          "output_type": "display_data",
          "data": {
            "text/plain": [
              "[1] \"data.frame\""
            ],
            "text/latex": "'data.frame'",
            "text/markdown": "'data.frame'",
            "text/html": [
              "'data.frame'"
            ]
          },
          "metadata": {
            "tags": []
          }
        }
      ]
    },
    {
      "cell_type": "code",
      "metadata": {
        "colab": {
          "base_uri": "https://localhost:8080/",
          "height": 252
        },
        "id": "oEWomQEeShW6",
        "outputId": "0b6a4aa1-8bfe-455b-b0c7-3fcac434fe52"
      },
      "source": [
        "# d. select any 2 atributes that are continuous valued and create a subset of original data with only those columns. \n",
        "# (e.g. sample_data(col1,col2, col3) is stored in variable my_data where as variable data_slice has only col2 and col3 and no other columns. Num of rows in both must be same.)\n",
        "\n",
        "\n",
        "data_slice <- data %>% select(Country:Ship.Date)\n",
        "summary(data_slice)\n"
      ],
      "execution_count": 5,
      "outputs": [
        {
          "output_type": "display_data",
          "data": {
            "text/plain": [
              "   Country           Item.Type         Sales.Channel      Order.Priority    \n",
              " Length:1000        Length:1000        Length:1000        Length:1000       \n",
              " Class :character   Class :character   Class :character   Class :character  \n",
              " Mode  :character   Mode  :character   Mode  :character   Mode  :character  \n",
              "                                                                            \n",
              "                                                                            \n",
              "                                                                            \n",
              "  Order.Date           Order.ID          Ship.Date        \n",
              " Length:1000        Min.   :102928006   Length:1000       \n",
              " Class :character   1st Qu.:328074026   Class :character  \n",
              " Mode  :character   Median :556609714   Mode  :character  \n",
              "                    Mean   :549681325                     \n",
              "                    3rd Qu.:769694483                     \n",
              "                    Max.   :995529830                     "
            ]
          },
          "metadata": {
            "tags": []
          }
        }
      ]
    },
    {
      "cell_type": "code",
      "metadata": {
        "colab": {
          "base_uri": "https://localhost:8080/",
          "height": 34
        },
        "id": "2MAKcWYYShSq",
        "outputId": "bd4ed6a5-f90b-43ac-ffab-e11ab019e91b"
      },
      "source": [
        "\n",
        "# e. Write R function to sample tuples starting at index N to N+m from any data set provided.\n",
        "bb <- data['Order.ID']\n",
        "sample(bb[1:10,])"
      ],
      "execution_count": 6,
      "outputs": [
        {
          "output_type": "display_data",
          "data": {
            "text/plain": [
              " [1] 161442649 683458888 266467225 185941302 645713555 246222341 679414975\n",
              " [8] 686800706 118598544 208630645"
            ],
            "text/latex": "\\begin{enumerate*}\n\\item 161442649\n\\item 683458888\n\\item 266467225\n\\item 185941302\n\\item 645713555\n\\item 246222341\n\\item 679414975\n\\item 686800706\n\\item 118598544\n\\item 208630645\n\\end{enumerate*}\n",
            "text/markdown": "1. 161442649\n2. 683458888\n3. 266467225\n4. 185941302\n5. 645713555\n6. 246222341\n7. 679414975\n8. 686800706\n9. 118598544\n10. 208630645\n\n\n",
            "text/html": [
              "<style>\n",
              ".list-inline {list-style: none; margin:0; padding: 0}\n",
              ".list-inline>li {display: inline-block}\n",
              ".list-inline>li:not(:last-child)::after {content: \"\\00b7\"; padding: 0 .5ex}\n",
              "</style>\n",
              "<ol class=list-inline><li>161442649</li><li>683458888</li><li>266467225</li><li>185941302</li><li>645713555</li><li>246222341</li><li>679414975</li><li>686800706</li><li>118598544</li><li>208630645</li></ol>\n"
            ]
          },
          "metadata": {
            "tags": []
          }
        }
      ]
    },
    {
      "cell_type": "code",
      "metadata": {
        "colab": {
          "base_uri": "https://localhost:8080/",
          "height": 50
        },
        "id": "B9sBPUavShMq",
        "outputId": "d772e64b-82de-497d-81b6-f1fd7c58b61a"
      },
      "source": [
        "# a. find out how many values are missing in each of the columns of your data set.\n",
        "tar <- data$Order.ID\n",
        "sapply(data, function(tar) sum(is.na(tar)))"
      ],
      "execution_count": 7,
      "outputs": [
        {
          "output_type": "display_data",
          "data": {
            "text/plain": [
              "        Region        Country      Item.Type  Sales.Channel Order.Priority \n",
              "             0              0              0              0              0 \n",
              "    Order.Date       Order.ID      Ship.Date     Units.Sold     Unit.Price \n",
              "             0              0              0              0              0 \n",
              "     Unit.Cost  Total.Revenue     Total.Cost   Total.Profit \n",
              "             0              0              0              0 "
            ],
            "text/latex": "\\begin{description*}\n\\item[Region] 0\n\\item[Country] 0\n\\item[Item.Type] 0\n\\item[Sales.Channel] 0\n\\item[Order.Priority] 0\n\\item[Order.Date] 0\n\\item[Order.ID] 0\n\\item[Ship.Date] 0\n\\item[Units.Sold] 0\n\\item[Unit.Price] 0\n\\item[Unit.Cost] 0\n\\item[Total.Revenue] 0\n\\item[Total.Cost] 0\n\\item[Total.Profit] 0\n\\end{description*}\n",
            "text/markdown": "Region\n:   0Country\n:   0Item.Type\n:   0Sales.Channel\n:   0Order.Priority\n:   0Order.Date\n:   0Order.ID\n:   0Ship.Date\n:   0Units.Sold\n:   0Unit.Price\n:   0Unit.Cost\n:   0Total.Revenue\n:   0Total.Cost\n:   0Total.Profit\n:   0\n\n",
            "text/html": [
              "<style>\n",
              ".dl-inline {width: auto; margin:0; padding: 0}\n",
              ".dl-inline>dt, .dl-inline>dd {float: none; width: auto; display: inline-block}\n",
              ".dl-inline>dt::after {content: \":\\0020\"; padding-right: .5ex}\n",
              ".dl-inline>dt:not(:first-of-type) {padding-left: .5ex}\n",
              "</style><dl class=dl-inline><dt>Region</dt><dd>0</dd><dt>Country</dt><dd>0</dd><dt>Item.Type</dt><dd>0</dd><dt>Sales.Channel</dt><dd>0</dd><dt>Order.Priority</dt><dd>0</dd><dt>Order.Date</dt><dd>0</dd><dt>Order.ID</dt><dd>0</dd><dt>Ship.Date</dt><dd>0</dd><dt>Units.Sold</dt><dd>0</dd><dt>Unit.Price</dt><dd>0</dd><dt>Unit.Cost</dt><dd>0</dd><dt>Total.Revenue</dt><dd>0</dd><dt>Total.Cost</dt><dd>0</dd><dt>Total.Profit</dt><dd>0</dd></dl>\n"
            ]
          },
          "metadata": {
            "tags": []
          }
        }
      ]
    },
    {
      "cell_type": "code",
      "metadata": {
        "id": "TwLp51M0ShKK"
      },
      "source": [
        "# b. select colum with more than 10% values missing for deletation. Create new copy of dataset\n",
        "# that has one less column call it sample_data_1less.\n",
        "\n",
        "## Remove columns with more than 10% NA\n",
        "dataless1 <-data[, which(colMeans(!is.na(data)) > 0.1)]"
      ],
      "execution_count": 9,
      "outputs": []
    },
    {
      "cell_type": "code",
      "metadata": {
        "colab": {
          "base_uri": "https://localhost:8080/",
          "height": 487
        },
        "id": "7PuQR0DyShHt",
        "outputId": "6030a506-adae-4b62-8c09-5bac6fad49ee"
      },
      "source": [
        "# c. Find 5 point summary of all remaining columns with numric attributes\n",
        "summary(dataless1)"
      ],
      "execution_count": 10,
      "outputs": [
        {
          "output_type": "display_data",
          "data": {
            "text/plain": [
              "    Region            Country           Item.Type         Sales.Channel     \n",
              " Length:1000        Length:1000        Length:1000        Length:1000       \n",
              " Class :character   Class :character   Class :character   Class :character  \n",
              " Mode  :character   Mode  :character   Mode  :character   Mode  :character  \n",
              "                                                                            \n",
              "                                                                            \n",
              "                                                                            \n",
              " Order.Priority      Order.Date           Order.ID          Ship.Date        \n",
              " Length:1000        Length:1000        Min.   :102928006   Length:1000       \n",
              " Class :character   Class :character   1st Qu.:328074026   Class :character  \n",
              " Mode  :character   Mode  :character   Median :556609714   Mode  :character  \n",
              "                                       Mean   :549681325                     \n",
              "                                       3rd Qu.:769694483                     \n",
              "                                       Max.   :995529830                     \n",
              "   Units.Sold     Unit.Price       Unit.Cost      Total.Revenue    \n",
              " Min.   :  13   Min.   :  9.33   Min.   :  6.92   Min.   :   2043  \n",
              " 1st Qu.:2420   1st Qu.: 81.73   1st Qu.: 56.67   1st Qu.: 281192  \n",
              " Median :5184   Median :154.06   Median : 97.44   Median : 754939  \n",
              " Mean   :5054   Mean   :262.11   Mean   :184.97   Mean   :1327322  \n",
              " 3rd Qu.:7537   3rd Qu.:421.89   3rd Qu.:263.33   3rd Qu.:1733503  \n",
              " Max.   :9998   Max.   :668.27   Max.   :524.96   Max.   :6617210  \n",
              "   Total.Cost       Total.Profit      \n",
              " Min.   :   1417   Min.   :    532.6  \n",
              " 1st Qu.: 164932   1st Qu.:  98376.1  \n",
              " Median : 464726   Median : 277226.0  \n",
              " Mean   : 936119   Mean   : 391202.6  \n",
              " 3rd Qu.:1141750   3rd Qu.: 548456.8  \n",
              " Max.   :5204978   Max.   :1726181.4  "
            ]
          },
          "metadata": {
            "tags": []
          }
        }
      ]
    },
    {
      "cell_type": "code",
      "metadata": {
        "colab": {
          "base_uri": "https://localhost:8080/",
          "height": 134
        },
        "id": "cGtjpVfzShFa",
        "outputId": "15f0fdec-a7c7-4be7-e10a-af607f6deceb"
      },
      "source": [
        "# d. For attribute having maximum spread delete all tuples that have value less than the mean of the\n",
        "# attribute selected. Count the number of tuples reamining in the sampled dataset.\n",
        "\n",
        "m <- mean(data$Order.ID, na.rm = FALSE)\n",
        "m\n",
        "\n",
        "df2 <- subset(data, data$Order.ID< m)\n",
        "summary(df2$Order.ID)\n",
        "print('Rows before row deletion: ')\n",
        "nrow(data)\n",
        "print('Rows before row deletion: ')\n",
        "nrow(df2)\n"
      ],
      "execution_count": 11,
      "outputs": [
        {
          "output_type": "display_data",
          "data": {
            "text/plain": [
              "[1] 549681325"
            ],
            "text/latex": "549681324.743",
            "text/markdown": "549681324.743",
            "text/html": [
              "549681324.743"
            ]
          },
          "metadata": {
            "tags": []
          }
        },
        {
          "output_type": "display_data",
          "data": {
            "text/plain": [
              "     Min.   1st Qu.    Median      Mean   3rd Qu.      Max. \n",
              "102928006 218832266 317323625 322855125 433427870 547748982 "
            ]
          },
          "metadata": {
            "tags": []
          }
        },
        {
          "output_type": "stream",
          "text": [
            "[1] \"Rows before row deletion: \"\n"
          ],
          "name": "stdout"
        },
        {
          "output_type": "display_data",
          "data": {
            "text/plain": [
              "[1] 1000"
            ],
            "text/latex": "1000",
            "text/markdown": "1000",
            "text/html": [
              "1000"
            ]
          },
          "metadata": {
            "tags": []
          }
        },
        {
          "output_type": "stream",
          "text": [
            "[1] \"Rows before row deletion: \"\n"
          ],
          "name": "stdout"
        },
        {
          "output_type": "display_data",
          "data": {
            "text/plain": [
              "[1] 491"
            ],
            "text/latex": "491",
            "text/markdown": "491",
            "text/html": [
              "491"
            ]
          },
          "metadata": {
            "tags": []
          }
        }
      ]
    },
    {
      "cell_type": "code",
      "metadata": {
        "colab": {
          "base_uri": "https://localhost:8080/",
          "height": 50
        },
        "id": "JBBsfwidShBL",
        "outputId": "68fc5c52-d04a-445b-b265-5d3948b92d44"
      },
      "source": [
        "# a. print the 5 point statistical summary for any 2 numeric attributes from your data set\n",
        "fivenum(data$Unit.Price) \n",
        "fivenum(data$Unit.Cost)"
      ],
      "execution_count": 14,
      "outputs": [
        {
          "output_type": "display_data",
          "data": {
            "text/plain": [
              "[1]   9.33  81.73 154.06 421.89 668.27"
            ],
            "text/latex": "\\begin{enumerate*}\n\\item 9.33\n\\item 81.73\n\\item 154.06\n\\item 421.89\n\\item 668.27\n\\end{enumerate*}\n",
            "text/markdown": "1. 9.33\n2. 81.73\n3. 154.06\n4. 421.89\n5. 668.27\n\n\n",
            "text/html": [
              "<style>\n",
              ".list-inline {list-style: none; margin:0; padding: 0}\n",
              ".list-inline>li {display: inline-block}\n",
              ".list-inline>li:not(:last-child)::after {content: \"\\00b7\"; padding: 0 .5ex}\n",
              "</style>\n",
              "<ol class=list-inline><li>9.33</li><li>81.73</li><li>154.06</li><li>421.89</li><li>668.27</li></ol>\n"
            ]
          },
          "metadata": {
            "tags": []
          }
        },
        {
          "output_type": "display_data",
          "data": {
            "text/plain": [
              "[1]   6.92  56.67  97.44 263.33 524.96"
            ],
            "text/latex": "\\begin{enumerate*}\n\\item 6.92\n\\item 56.67\n\\item 97.44\n\\item 263.33\n\\item 524.96\n\\end{enumerate*}\n",
            "text/markdown": "1. 6.92\n2. 56.67\n3. 97.44\n4. 263.33\n5. 524.96\n\n\n",
            "text/html": [
              "<style>\n",
              ".list-inline {list-style: none; margin:0; padding: 0}\n",
              ".list-inline>li {display: inline-block}\n",
              ".list-inline>li:not(:last-child)::after {content: \"\\00b7\"; padding: 0 .5ex}\n",
              "</style>\n",
              "<ol class=list-inline><li>6.92</li><li>56.67</li><li>97.44</li><li>263.33</li><li>524.96</li></ol>\n"
            ]
          },
          "metadata": {
            "tags": []
          }
        }
      ]
    },
    {
      "cell_type": "code",
      "metadata": {
        "colab": {
          "base_uri": "https://localhost:8080/",
          "height": 454
        },
        "id": "aNwXv4MMSg-0",
        "outputId": "5adcde90-448f-4044-b9a9-d88ee69390ca"
      },
      "source": [
        "# b. select 2 atributes have closest mean value and draw a scatter plot with proper x and labelsloi\n",
        "# ntt and title (for plotting you must use R library functions or gnuplot and not matplotlib )\n",
        "means<- colMeans(data[sapply(data, is.numeric)] )\n",
        "means\n",
        "\n",
        "library(ggplot2)\n",
        "\n",
        "Unit.Price<-data$Unit.Price\n",
        "Unit.Cost<-data$Unit.Cost\n",
        "plot(Unit.Price , Unit.Cost , main = \"Scatterplot\" , xlab = \"Unit.Price\" , ylab = \"Unit.Cost\" , las = 1 , xlim = c(0,50) , col = 4 )"
      ],
      "execution_count": 16,
      "outputs": [
        {
          "output_type": "display_data",
          "data": {
            "text/plain": [
              "     Order.ID    Units.Sold    Unit.Price     Unit.Cost Total.Revenue \n",
              " 5.496813e+08  5.053988e+03  2.621068e+02  1.849651e+02  1.327322e+06 \n",
              "   Total.Cost  Total.Profit \n",
              " 9.361192e+05  3.912026e+05 "
            ],
            "text/latex": "\\begin{description*}\n\\item[Order.ID] 549681324.743\n\\item[Units.Sold] 5053.988\n\\item[Unit.Price] 262.10684\n\\item[Unit.Cost] 184.96511\n\\item[Total.Revenue] 1327321.84033\n\\item[Total.Cost] 936119.22877\n\\item[Total.Profit] 391202.61156\n\\end{description*}\n",
            "text/markdown": "Order.ID\n:   549681324.743Units.Sold\n:   5053.988Unit.Price\n:   262.10684Unit.Cost\n:   184.96511Total.Revenue\n:   1327321.84033Total.Cost\n:   936119.22877Total.Profit\n:   391202.61156\n\n",
            "text/html": [
              "<style>\n",
              ".dl-inline {width: auto; margin:0; padding: 0}\n",
              ".dl-inline>dt, .dl-inline>dd {float: none; width: auto; display: inline-block}\n",
              ".dl-inline>dt::after {content: \":\\0020\"; padding-right: .5ex}\n",
              ".dl-inline>dt:not(:first-of-type) {padding-left: .5ex}\n",
              "</style><dl class=dl-inline><dt>Order.ID</dt><dd>549681324.743</dd><dt>Units.Sold</dt><dd>5053.988</dd><dt>Unit.Price</dt><dd>262.10684</dd><dt>Unit.Cost</dt><dd>184.96511</dd><dt>Total.Revenue</dt><dd>1327321.84033</dd><dt>Total.Cost</dt><dd>936119.22877</dd><dt>Total.Profit</dt><dd>391202.61156</dd></dl>\n"
            ]
          },
          "metadata": {
            "tags": []
          }
        },
        {
          "output_type": "display_data",
          "data": {
            "image/png": "[encoded data removed]",
            "text/plain": [
              "Plot with title “Scatterplot”"
            ]
          },
          "metadata": {
            "tags": [],
            "image/png": {
              "width": 420,
              "height": 420
            }
          }
        }
      ]
    },
    {
      "cell_type": "code",
      "metadata": {
        "colab": {
          "base_uri": "https://localhost:8080/",
          "height": 437
        },
        "id": "UkZEl8BaSg6i",
        "outputId": "0b91940f-028d-4895-b98e-eca1d04d7568"
      },
      "source": [
        "# e. Write a R function to plot histogram of some specific input attribute for any data set provided\n",
        "new.function <- function(Unit.Price) {\n",
        "   hist(Unit.Price)\n",
        "}\n",
        "\n",
        "new.function(Unit.Price)"
      ],
      "execution_count": 17,
      "outputs": [
        {
          "output_type": "display_data",
          "data": {
            "image/png": "[encoded data removed]",
            "text/plain": [
              "Plot with title “Histogram of Unit.Price”"
            ]
          },
          "metadata": {
            "tags": [],
            "image/png": {
              "width": 420,
              "height": 420
            }
          }
        }
      ]
    },
    {
      "cell_type": "code",
      "metadata": {
        "colab": {
          "base_uri": "https://localhost:8080/",
          "height": 34
        },
        "id": "goNwcY8zSg4U",
        "outputId": "f931b805-9920-485a-8060-e3c03281098e"
      },
      "source": [
        "# c. Find coefficient of correlation using some R library function between above 2 attributes\n",
        "cor(Unit.Price,Unit.Cost, method = c(\"pearson\", \"kendall\", \"spearman\"))"
      ],
      "execution_count": 18,
      "outputs": [
        {
          "output_type": "display_data",
          "data": {
            "text/plain": [
              "[1] 0.9867348"
            ],
            "text/latex": "0.986734801226744",
            "text/markdown": "0.986734801226744",
            "text/html": [
              "0.986734801226744"
            ]
          },
          "metadata": {
            "tags": []
          }
        }
      ]
    },
    {
      "cell_type": "code",
      "metadata": {
        "colab": {
          "base_uri": "https://localhost:8080/",
          "height": 437
        },
        "id": "CNsiUR5xSg0S",
        "outputId": "1b8e8496-35be-4cc8-f69e-ce70ef408a2b"
      },
      "source": [
        "boxplot(Unit.Price,Unit.Cost)\n",
        "title(\"Unit.Price vs. Unit.Cost\")"
      ],
      "execution_count": 19,
      "outputs": [
        {
          "output_type": "display_data",
          "data": {
            "image/png": "[encoded data removed]",
            "text/plain": [
              "Plot with title “Unit.Price vs. Unit.Cost”"
            ]
          },
          "metadata": {
            "tags": [],
            "image/png": {
              "width": 420,
              "height": 420
            }
          }
        }
      ]
    },
    {
      "cell_type": "code",
      "metadata": {
        "id": "3JucEMMYSgxx"
      },
      "source": [
        ""
      ],
      "execution_count": null,
      "outputs": []
    },
    {
      "cell_type": "code",
      "metadata": {
        "id": "m-RIvBguSgtB"
      },
      "source": [
        ""
      ],
      "execution_count": null,
      "outputs": []
    }
  ]
}